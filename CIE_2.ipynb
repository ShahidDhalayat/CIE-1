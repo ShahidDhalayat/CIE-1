{
  "nbformat": 4,
  "nbformat_minor": 0,
  "metadata": {
    "colab": {
      "provenance": [],
      "authorship_tag": "ABX9TyMNJnGqxO+atykqY5Oh6eU1",
      "include_colab_link": true
    },
    "kernelspec": {
      "name": "python3",
      "display_name": "Python 3"
    },
    "language_info": {
      "name": "python"
    }
  },
  "cells": [
    {
      "cell_type": "markdown",
      "metadata": {
        "id": "view-in-github",
        "colab_type": "text"
      },
      "source": [
        "<a href=\"https://colab.research.google.com/github/ShahidDhalayat/CIE-1/blob/main/CIE_2.ipynb\" target=\"_parent\"><img src=\"https://colab.research.google.com/assets/colab-badge.svg\" alt=\"Open In Colab\"/></a>"
      ]
    },
    {
      "cell_type": "code",
      "execution_count": 1,
      "metadata": {
        "colab": {
          "base_uri": "https://localhost:8080/"
        },
        "id": "9qxp2YEZjyiv",
        "outputId": "17f1b409-ef18-4fb4-de56-ea24fd140456"
      },
      "outputs": [
        {
          "output_type": "stream",
          "name": "stdout",
          "text": [
            "mean of age 29.69911764705882\n",
            "median of age nan\n",
            "mode of age ModeResult(mode=nan, count=177)\n",
            "mean1 of fare 32.204207968574636\n",
            "median1 of fare 14.4542\n",
            "mode1 of fare ModeResult(mode=8.05, count=43)\n"
          ]
        }
      ],
      "source": [
        "import pandas as pd\n",
        "import numpy as np\n",
        "from scipy import stats\n",
        "data=pd.read_csv(\"/content/titanic (1).csv\")\n",
        "mean=np.mean(data['Age'])\n",
        "median=np.median(data['Age'])\n",
        "mode=stats.mode(data['Age'])\n",
        "mean1=np.mean(data['Fare'])\n",
        "median1=np.median(data['Fare'])\n",
        "mode1=stats.mode(data['Fare'])\n",
        "print('mean of age',mean)\n",
        "print('median of age',median)\n",
        "print('mode of age',mode)\n",
        "print('mean1 of fare',mean1)\n",
        "print('median1 of fare',median1)\n",
        "print('mode1 of fare',mode1)"
      ]
    },
    {
      "cell_type": "code",
      "source": [
        "import pandas as pd\n",
        "import matplotlib.pyplot as plt\n",
        "data = sns.load_dataset('titanic')\n",
        "filtered_data = data[data['survived'].isin([0, 1])]\n",
        "plt.figure(figsize=(5, 5))\n",
        "data.replace(to_replace='survived',value=1,inplace=True)\n",
        "data.replace(to_replace='not survived',value=0,inplace=True)\n",
        "data['survived'].value_counts().plot(kind='bar',color=['blue','green'])\n",
        "plt.title('bar chart of survived')\n",
        "plt.xlabel('survived')\n",
        "plt.ylabel('count')\n",
        "plt.xticks(ticks=[0,1],labels=['not survived','survived'],rotation=0)\n",
        "plt.show()"
      ],
      "metadata": {
        "colab": {
          "base_uri": "https://localhost:8080/",
          "height": 487
        },
        "id": "mmXVXMWblaVE",
        "outputId": "d6bfa571-5afc-4997-90d9-760840188644"
      },
      "execution_count": 19,
      "outputs": [
        {
          "output_type": "display_data",
          "data": {
            "text/plain": [
              "<Figure size 500x500 with 1 Axes>"
            ],
            "image/png": "[encoded data removed]"
          },
          "metadata": {}
        }
      ]
    },
    {
      "cell_type": "code",
      "source": [
        "df=data.isnull().sum()\n",
        "print(df)\n",
        "t_age=data.fillna(data.mean(numeric_only=True))\n",
        "print(t_age)\n"
      ],
      "metadata": {
        "colab": {
          "base_uri": "https://localhost:8080/"
        },
        "id": "d_cs7x5Al7mj",
        "outputId": "b0afdacf-1863-45c2-fc3b-fb9858917c53"
      },
      "execution_count": 7,
      "outputs": [
        {
          "output_type": "stream",
          "name": "stdout",
          "text": [
            "PassengerId      0\n",
            "Survived         0\n",
            "Pclass           0\n",
            "Name             0\n",
            "Sex              0\n",
            "Age            177\n",
            "SibSp            0\n",
            "Parch            0\n",
            "Ticket           0\n",
            "Fare             0\n",
            "Cabin          687\n",
            "Embarked         2\n",
            "dtype: int64\n",
            "     PassengerId  Survived  Pclass  \\\n",
            "0              1         0       3   \n",
            "1              2         1       1   \n",
            "2              3         1       3   \n",
            "3              4         1       1   \n",
            "4              5         0       3   \n",
            "..           ...       ...     ...   \n",
            "886          887         0       2   \n",
            "887          888         1       1   \n",
            "888          889         0       3   \n",
            "889          890         1       1   \n",
            "890          891         0       3   \n",
            "\n",
            "                                                  Name     Sex        Age  \\\n",
            "0                              Braund, Mr. Owen Harris    male  22.000000   \n",
            "1    Cumings, Mrs. John Bradley (Florence Briggs Th...  female  38.000000   \n",
            "2                               Heikkinen, Miss. Laina  female  26.000000   \n",
            "3         Futrelle, Mrs. Jacques Heath (Lily May Peel)  female  35.000000   \n",
            "4                             Allen, Mr. William Henry    male  35.000000   \n",
            "..                                                 ...     ...        ...   \n",
            "886                              Montvila, Rev. Juozas    male  27.000000   \n",
            "887                       Graham, Miss. Margaret Edith  female  19.000000   \n",
            "888           Johnston, Miss. Catherine Helen \"Carrie\"  female  29.699118   \n",
            "889                              Behr, Mr. Karl Howell    male  26.000000   \n",
            "890                                Dooley, Mr. Patrick    male  32.000000   \n",
            "\n",
            "     SibSp  Parch            Ticket     Fare Cabin Embarked  \n",
            "0        1      0         A/5 21171   7.2500   NaN        S  \n",
            "1        1      0          PC 17599  71.2833   C85        C  \n",
            "2        0      0  STON/O2. 3101282   7.9250   NaN        S  \n",
            "3        1      0            113803  53.1000  C123        S  \n",
            "4        0      0            373450   8.0500   NaN        S  \n",
            "..     ...    ...               ...      ...   ...      ...  \n",
            "886      0      0            211536  13.0000   NaN        S  \n",
            "887      0      0            112053  30.0000   B42        S  \n",
            "888      1      2        W./C. 6607  23.4500   NaN        S  \n",
            "889      0      0            111369  30.0000  C148        C  \n",
            "890      0      0            370376   7.7500   NaN        Q  \n",
            "\n",
            "[891 rows x 12 columns]\n"
          ]
        }
      ]
    },
    {
      "cell_type": "code",
      "source": [
        "import pandas as pd\n",
        "import numpy as np\n",
        "import matplotlib.pyplot as plt\n",
        "import seaborn as sns\n",
        "from scipy import stats\n",
        "data=sns.load_dataset('titanic')\n",
        "t_age=data['age'].dropna()\n",
        "z_score=np.abs(stats.zscore(t_age))\n",
        "threshold=3\n",
        "o_z=t_age[(z_score<threshold)]\n",
        "print(o_z)\n",
        "plt.figure(figsize=(5,5))\n",
        "sns.boxplot(x=t_age)\n",
        "plt.title(\"box plot of outliers\")\n",
        "plt.show()\n"
      ],
      "metadata": {
        "colab": {
          "base_uri": "https://localhost:8080/",
          "height": 706
        },
        "id": "KF4S1gIBn6h0",
        "outputId": "ccee9fec-a0b7-4e47-cb4a-4ccdbde2df85"
      },
      "execution_count": 9,
      "outputs": [
        {
          "output_type": "stream",
          "name": "stdout",
          "text": [
            "0      22.0\n",
            "1      38.0\n",
            "2      26.0\n",
            "3      35.0\n",
            "4      35.0\n",
            "       ... \n",
            "885    39.0\n",
            "886    27.0\n",
            "887    19.0\n",
            "889    26.0\n",
            "890    32.0\n",
            "Name: age, Length: 712, dtype: float64\n"
          ]
        },
        {
          "output_type": "display_data",
          "data": {
            "text/plain": [
              "<Figure size 500x500 with 1 Axes>"
            ],
            "image/png": "[encoded data removed]"
          },
          "metadata": {}
        }
      ]
    }
  ]
}